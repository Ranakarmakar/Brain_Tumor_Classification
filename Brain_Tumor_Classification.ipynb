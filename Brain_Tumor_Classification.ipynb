{
 "cells": [
  {
   "cell_type": "markdown",
   "id": "2ddf1c58",
   "metadata": {},
   "source": [
    "# Brain Tumor Classification (MRI)\n",
    "#Dataset - https://www.kaggle.com/sartajbhuvaji/brain-tumor-classification-mri"
   ]
  },
  {
   "cell_type": "markdown",
   "id": "69845af5",
   "metadata": {},
   "source": [
    "## Importing the libraries"
   ]
  },
  {
   "cell_type": "code",
   "execution_count": 1,
   "id": "87db5b8a",
   "metadata": {
    "scrolled": false
   },
   "outputs": [
    {
     "data": {
      "text/plain": [
       "'2.7.0'"
      ]
     },
     "execution_count": 1,
     "metadata": {},
     "output_type": "execute_result"
    }
   ],
   "source": [
    "import tensorflow as tf\n",
    "from tensorflow.keras.preprocessing.image import ImageDataGenerator\n",
    "tf.__version__"
   ]
  },
  {
   "cell_type": "code",
   "execution_count": 2,
   "id": "ce803e6a",
   "metadata": {},
   "outputs": [],
   "source": [
    "from tensorflow import keras"
   ]
  },
  {
   "cell_type": "markdown",
   "id": "51e5b1bb",
   "metadata": {},
   "source": [
    "## Preprocessing the Training set"
   ]
  },
  {
   "cell_type": "code",
   "execution_count": 3,
   "id": "b046d890",
   "metadata": {},
   "outputs": [],
   "source": [
    "train_datagen = ImageDataGenerator(rescale = 1./255,\n",
    "                                   shear_range = 0.2,\n",
    "                                   zoom_range = 0.2,\n",
    "                                   horizontal_flip = True)"
   ]
  },
  {
   "cell_type": "code",
   "execution_count": 4,
   "id": "c2633621",
   "metadata": {},
   "outputs": [
    {
     "name": "stdout",
     "output_type": "stream",
     "text": [
      "Found 2870 images belonging to 2 classes.\n"
     ]
    }
   ],
   "source": [
    "training_set = train_datagen.flow_from_directory('dataset_large/training_set',\n",
    "                                                 target_size = (64, 64),\n",
    "                                                 batch_size = 32,\n",
    "                                             class_mode = 'binary')"
   ]
  },
  {
   "cell_type": "code",
   "execution_count": null,
   "id": "fe176194",
   "metadata": {},
   "outputs": [],
   "source": []
  },
  {
   "cell_type": "markdown",
   "id": "c2385436",
   "metadata": {},
   "source": [
    "## Preprocessing the Test set"
   ]
  },
  {
   "cell_type": "code",
   "execution_count": 5,
   "id": "09926647",
   "metadata": {},
   "outputs": [
    {
     "name": "stdout",
     "output_type": "stream",
     "text": [
      "Found 220 images belonging to 2 classes.\n"
     ]
    }
   ],
   "source": [
    "test_datagen = ImageDataGenerator(rescale = 1./255)\n",
    "test_set = test_datagen.flow_from_directory('dataset_large/test_set',\n",
    "                                            target_size = (64, 64),\n",
    "                                            batch_size = 32,\n",
    "                                            class_mode = 'binary')"
   ]
  },
  {
   "cell_type": "markdown",
   "id": "a4dc9b04",
   "metadata": {},
   "source": [
    "## Part 2 - Building the CNN"
   ]
  },
  {
   "cell_type": "code",
   "execution_count": 7,
   "id": "42e72bab",
   "metadata": {},
   "outputs": [],
   "source": [
    "# Initialising the CNN\n",
    "cnn = tf.keras.models.Sequential()"
   ]
  },
  {
   "cell_type": "code",
   "execution_count": 8,
   "id": "8192db0d",
   "metadata": {},
   "outputs": [],
   "source": [
    "# Step 1 - Convolution\n",
    "cnn.add(tf.keras.layers.Conv2D(filters=32, kernel_size=3, activation='relu', input_shape=[64, 64, 3]))"
   ]
  },
  {
   "cell_type": "code",
   "execution_count": 9,
   "id": "09a90dba",
   "metadata": {},
   "outputs": [],
   "source": [
    "# Step 2 - Pooling\n",
    "cnn.add(tf.keras.layers.MaxPool2D(pool_size=2, strides=2))"
   ]
  },
  {
   "cell_type": "code",
   "execution_count": 10,
   "id": "6ce6cd77",
   "metadata": {},
   "outputs": [],
   "source": [
    "# Adding a second convolutional layer\n",
    "cnn.add(tf.keras.layers.Conv2D(filters=64, kernel_size=3, activation='relu'))\n",
    "cnn.add(tf.keras.layers.MaxPool2D(pool_size=2, strides=2))"
   ]
  },
  {
   "cell_type": "code",
   "execution_count": 11,
   "id": "2dc16c06",
   "metadata": {},
   "outputs": [],
   "source": [
    "# Step 3 - Flattening\n",
    "cnn.add(tf.keras.layers.Flatten())"
   ]
  },
  {
   "cell_type": "code",
   "execution_count": 12,
   "id": "b45889bf",
   "metadata": {},
   "outputs": [],
   "source": [
    "# Step 4 - Full Connection\n",
    "cnn.add(tf.keras.layers.Dense(units=128, activation='relu'))"
   ]
  },
  {
   "cell_type": "code",
   "execution_count": 13,
   "id": "3d926ec3",
   "metadata": {},
   "outputs": [],
   "source": [
    "# Step 5 - Output Layer\n",
    "cnn.add(tf.keras.layers.Dense(units=1, activation='sigmoid'))"
   ]
  },
  {
   "cell_type": "code",
   "execution_count": 14,
   "id": "be337dec",
   "metadata": {},
   "outputs": [],
   "source": [
    "# Part 3 - Training the CNN\n",
    "\n",
    "# Compiling the CNN\n",
    "cnn.compile(optimizer = 'adam', loss = 'binary_crossentropy', metrics = ['accuracy'])"
   ]
  },
  {
   "cell_type": "code",
   "execution_count": 17,
   "id": "6b2ec06a",
   "metadata": {},
   "outputs": [
    {
     "name": "stdout",
     "output_type": "stream",
     "text": [
      "Epoch 1/20\n",
      "90/90 [==============================] - 15s 166ms/step - loss: 0.1057 - accuracy: 0.9571 - val_loss: 0.5887 - val_accuracy: 0.7182\n",
      "Epoch 2/20\n",
      "90/90 [==============================] - 15s 163ms/step - loss: 0.1024 - accuracy: 0.9571 - val_loss: 0.8683 - val_accuracy: 0.5955\n",
      "Epoch 3/20\n",
      "90/90 [==============================] - 14s 160ms/step - loss: 0.1130 - accuracy: 0.9530 - val_loss: 0.6776 - val_accuracy: 0.6955\n",
      "Epoch 4/20\n",
      "90/90 [==============================] - 14s 159ms/step - loss: 0.0953 - accuracy: 0.9638 - val_loss: 0.4951 - val_accuracy: 0.7727\n",
      "Epoch 5/20\n",
      "90/90 [==============================] - 15s 165ms/step - loss: 0.0839 - accuracy: 0.9669 - val_loss: 0.6527 - val_accuracy: 0.6909\n",
      "Epoch 6/20\n",
      "90/90 [==============================] - 14s 160ms/step - loss: 0.0791 - accuracy: 0.9679 - val_loss: 0.5577 - val_accuracy: 0.7455\n",
      "Epoch 7/20\n",
      "90/90 [==============================] - 14s 159ms/step - loss: 0.0826 - accuracy: 0.9679 - val_loss: 0.8011 - val_accuracy: 0.6591\n",
      "Epoch 8/20\n",
      "90/90 [==============================] - 15s 162ms/step - loss: 0.0680 - accuracy: 0.9721 - val_loss: 0.7587 - val_accuracy: 0.7000\n",
      "Epoch 9/20\n",
      "90/90 [==============================] - 14s 158ms/step - loss: 0.0648 - accuracy: 0.9732 - val_loss: 0.8433 - val_accuracy: 0.6773\n",
      "Epoch 10/20\n",
      "90/90 [==============================] - 14s 158ms/step - loss: 0.0617 - accuracy: 0.9791 - val_loss: 0.7638 - val_accuracy: 0.7091\n",
      "Epoch 11/20\n",
      "90/90 [==============================] - 14s 156ms/step - loss: 0.0624 - accuracy: 0.9756 - val_loss: 0.8181 - val_accuracy: 0.6909\n",
      "Epoch 12/20\n",
      "90/90 [==============================] - 14s 155ms/step - loss: 0.0437 - accuracy: 0.9857 - val_loss: 0.8414 - val_accuracy: 0.7591\n",
      "Epoch 13/20\n",
      "90/90 [==============================] - 14s 153ms/step - loss: 0.0515 - accuracy: 0.9836 - val_loss: 0.8294 - val_accuracy: 0.7227\n",
      "Epoch 14/20\n",
      "90/90 [==============================] - 14s 153ms/step - loss: 0.0692 - accuracy: 0.9742 - val_loss: 0.7748 - val_accuracy: 0.7409\n",
      "Epoch 15/20\n",
      "90/90 [==============================] - 14s 159ms/step - loss: 0.0484 - accuracy: 0.9843 - val_loss: 0.8955 - val_accuracy: 0.7182\n",
      "Epoch 16/20\n",
      "90/90 [==============================] - 14s 155ms/step - loss: 0.0398 - accuracy: 0.9885 - val_loss: 0.9067 - val_accuracy: 0.7136\n",
      "Epoch 17/20\n",
      "90/90 [==============================] - 14s 158ms/step - loss: 0.0360 - accuracy: 0.9878 - val_loss: 0.6477 - val_accuracy: 0.8182\n",
      "Epoch 18/20\n",
      "90/90 [==============================] - 14s 155ms/step - loss: 0.0405 - accuracy: 0.9829 - val_loss: 0.6376 - val_accuracy: 0.8000\n",
      "Epoch 19/20\n",
      "90/90 [==============================] - 14s 153ms/step - loss: 0.0345 - accuracy: 0.9882 - val_loss: 0.8547 - val_accuracy: 0.7545\n",
      "Epoch 20/20\n",
      "90/90 [==============================] - 14s 155ms/step - loss: 0.0244 - accuracy: 0.9913 - val_loss: 1.0178 - val_accuracy: 0.7545\n"
     ]
    },
    {
     "data": {
      "text/plain": [
       "<keras.callbacks.History at 0x29205b8f790>"
      ]
     },
     "execution_count": 17,
     "metadata": {},
     "output_type": "execute_result"
    }
   ],
   "source": [
    "# Training the CNN on the Training set and evaluating it on the Test set\n",
    "cnn.fit(x = training_set, validation_data = test_set, epochs = 20)"
   ]
  },
  {
   "cell_type": "markdown",
   "id": "8f190f10",
   "metadata": {},
   "source": [
    "## Model Summary"
   ]
  },
  {
   "cell_type": "code",
   "execution_count": 18,
   "id": "018905a6",
   "metadata": {},
   "outputs": [
    {
     "name": "stdout",
     "output_type": "stream",
     "text": [
      "Model: \"sequential\"\n",
      "_________________________________________________________________\n",
      " Layer (type)                Output Shape              Param #   \n",
      "=================================================================\n",
      " conv2d (Conv2D)             (None, 62, 62, 32)        896       \n",
      "                                                                 \n",
      " max_pooling2d (MaxPooling2D  (None, 31, 31, 32)       0         \n",
      " )                                                               \n",
      "                                                                 \n",
      " conv2d_1 (Conv2D)           (None, 29, 29, 64)        18496     \n",
      "                                                                 \n",
      " max_pooling2d_1 (MaxPooling  (None, 14, 14, 64)       0         \n",
      " 2D)                                                             \n",
      "                                                                 \n",
      " flatten (Flatten)           (None, 12544)             0         \n",
      "                                                                 \n",
      " dense (Dense)               (None, 128)               1605760   \n",
      "                                                                 \n",
      " dense_1 (Dense)             (None, 1)                 129       \n",
      "                                                                 \n",
      "=================================================================\n",
      "Total params: 1,625,281\n",
      "Trainable params: 1,625,281\n",
      "Non-trainable params: 0\n",
      "_________________________________________________________________\n"
     ]
    }
   ],
   "source": [
    "cnn.summary()"
   ]
  },
  {
   "cell_type": "markdown",
   "id": "3329f533",
   "metadata": {},
   "source": [
    "## Saving The Model"
   ]
  },
  {
   "cell_type": "code",
   "execution_count": 19,
   "id": "21daaf6f",
   "metadata": {},
   "outputs": [],
   "source": [
    "cnn.save(\"tumor_model.h5\")"
   ]
  },
  {
   "cell_type": "markdown",
   "id": "a69dbe35",
   "metadata": {},
   "source": [
    "## Loaded Model"
   ]
  },
  {
   "cell_type": "code",
   "execution_count": 33,
   "id": "eb02676c",
   "metadata": {},
   "outputs": [
    {
     "name": "stdout",
     "output_type": "stream",
     "text": [
      "Model: \"sequential\"\n",
      "_________________________________________________________________\n",
      " Layer (type)                Output Shape              Param #   \n",
      "=================================================================\n",
      " conv2d (Conv2D)             (None, 62, 62, 32)        896       \n",
      "                                                                 \n",
      " max_pooling2d (MaxPooling2D  (None, 31, 31, 32)       0         \n",
      " )                                                               \n",
      "                                                                 \n",
      " conv2d_1 (Conv2D)           (None, 29, 29, 64)        18496     \n",
      "                                                                 \n",
      " max_pooling2d_1 (MaxPooling  (None, 14, 14, 64)       0         \n",
      " 2D)                                                             \n",
      "                                                                 \n",
      " flatten (Flatten)           (None, 12544)             0         \n",
      "                                                                 \n",
      " dense (Dense)               (None, 128)               1605760   \n",
      "                                                                 \n",
      " dense_1 (Dense)             (None, 1)                 129       \n",
      "                                                                 \n",
      "=================================================================\n",
      "Total params: 1,625,281\n",
      "Trainable params: 1,625,281\n",
      "Non-trainable params: 0\n",
      "_________________________________________________________________\n"
     ]
    }
   ],
   "source": [
    "loaded_model = tf.keras.models.load_model(\"tumor_model.h5\")\n",
    "x = loaded_model.summary()\n",
    "x"
   ]
  },
  {
   "cell_type": "code",
   "execution_count": null,
   "id": "4a7cd96c",
   "metadata": {},
   "outputs": [],
   "source": []
  },
  {
   "cell_type": "code",
   "execution_count": null,
   "id": "38a97a09",
   "metadata": {},
   "outputs": [],
   "source": []
  },
  {
   "cell_type": "markdown",
   "id": "a28669db",
   "metadata": {},
   "source": [
    "## Prediction"
   ]
  },
  {
   "cell_type": "code",
   "execution_count": 21,
   "id": "ce94b6e2",
   "metadata": {},
   "outputs": [
    {
     "name": "stdout",
     "output_type": "stream",
     "text": [
      "[[1.]]\n",
      "\n"
     ]
    }
   ],
   "source": [
    "import numpy as np\n",
    "from tensorflow.keras.preprocessing import image\n",
    "test_image = image.load_img('dataset/single_prediction/yes_or_no.jpg', target_size = (64, 64))\n",
    "test_image = image.img_to_array(test_image)\n",
    "test_image = np.expand_dims(test_image, axis = 0)\n",
    "result = cnn.predict(test_image)\n",
    "training_set.class_indices\n",
    "print(result)\n",
    "print()"
   ]
  },
  {
   "cell_type": "code",
   "execution_count": 22,
   "id": "7e016b99",
   "metadata": {},
   "outputs": [
    {
     "name": "stdout",
     "output_type": "stream",
     "text": [
      "yes\n"
     ]
    }
   ],
   "source": [
    "if result[0][0] == 1:\n",
    "    prediction = 'yes'\n",
    "else:\n",
    "    prediction = 'no'\n",
    "print(prediction)"
   ]
  },
  {
   "cell_type": "code",
   "execution_count": 23,
   "id": "f41ec817",
   "metadata": {},
   "outputs": [],
   "source": [
    "from tensorflow.keras.models import load_model\n",
    "cnn1 = load_model('tumor_model.h5')"
   ]
  },
  {
   "cell_type": "code",
   "execution_count": 24,
   "id": "e6b84591",
   "metadata": {},
   "outputs": [],
   "source": [
    "img = image.load_img('dataset/single_prediction/yes_or_no2.jpg', target_size = (64, 64))\n",
    "test_imag = image.img_to_array(img)\n",
    "test_img = np.expand_dims(test_imag, axis = 0)"
   ]
  },
  {
   "cell_type": "code",
   "execution_count": 25,
   "id": "3181a0c9",
   "metadata": {},
   "outputs": [
    {
     "data": {
      "text/plain": [
       "(1, 64, 64, 3)"
      ]
     },
     "execution_count": 25,
     "metadata": {},
     "output_type": "execute_result"
    }
   ],
   "source": [
    "test_img.shape"
   ]
  },
  {
   "cell_type": "code",
   "execution_count": 26,
   "id": "5efcefd4",
   "metadata": {},
   "outputs": [
    {
     "data": {
      "text/plain": [
       "array([[0.]], dtype=float32)"
      ]
     },
     "execution_count": 26,
     "metadata": {},
     "output_type": "execute_result"
    }
   ],
   "source": [
    "cnn1.predict(test_img)"
   ]
  },
  {
   "cell_type": "code",
   "execution_count": 27,
   "id": "e4e52bb1",
   "metadata": {},
   "outputs": [
    {
     "data": {
      "text/plain": [
       "(1, 64, 64, 3)"
      ]
     },
     "execution_count": 27,
     "metadata": {},
     "output_type": "execute_result"
    }
   ],
   "source": [
    "test_image1 = image.load_img('dataset/single_prediction/yes_or_no3.jpg', target_size = (64, 64))\n",
    "test_image2 = image.img_to_array(test_image1)\n",
    "test_image3 = np.expand_dims(test_image2, axis = 0)\n",
    "test_image3.shape"
   ]
  },
  {
   "cell_type": "code",
   "execution_count": 28,
   "id": "bb19b941",
   "metadata": {},
   "outputs": [
    {
     "data": {
      "image/png": "[encoded data removed]",
      "text/plain": [
       "<PIL.Image.Image image mode=RGB size=64x64 at 0x29206F560A0>"
      ]
     },
     "execution_count": 28,
     "metadata": {},
     "output_type": "execute_result"
    }
   ],
   "source": [
    "test_image1"
   ]
  },
  {
   "cell_type": "code",
   "execution_count": null,
   "id": "ba63e967",
   "metadata": {},
   "outputs": [],
   "source": []
  }
 ],
 "metadata": {
  "kernelspec": {
   "display_name": "Python 3",
   "language": "python",
   "name": "python3"
  },
  "language_info": {
   "codemirror_mode": {
    "name": "ipython",
    "version": 3
   },
   "file_extension": ".py",
   "mimetype": "text/x-python",
   "name": "python",
   "nbconvert_exporter": "python",
   "pygments_lexer": "ipython3",
   "version": "3.8.8"
  }
 },
 "nbformat": 4,
 "nbformat_minor": 5
}
